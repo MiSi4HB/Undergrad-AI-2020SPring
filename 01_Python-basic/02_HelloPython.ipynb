{
  "nbformat": 4,
  "nbformat_minor": 0,
  "metadata": {
    "colab": {
      "name": "00_2_python_1.4.1~1.5.6.ipynb",
      "provenance": [],
      "collapsed_sections": [],
      "toc_visible": true,
      "mount_file_id": "1nPfmSjs1aNn9Fy2aj0IvISjUU5pJbdUH",
      "authorship_tag": "ABX9TyNFIIPuMFeDB1lIOpCLdVkj",
      "include_colab_link": true
    },
    "kernelspec": {
      "name": "python3",
      "display_name": "Python 3"
    }
  },
  "cells": [
    {
      "cell_type": "markdown",
      "metadata": {
        "id": "view-in-github",
        "colab_type": "text"
      },
      "source": [
        "<a href=\"https://colab.research.google.com/github/Hallymhwangbo/2020-AI_minseo/blob/master/00_2_python_1_4_1~1_5_6.ipynb\" target=\"_parent\"><img src=\"https://colab.research.google.com/assets/colab-badge.svg\" alt=\"Open In Colab\"/></a>"
      ]
    },
    {
      "cell_type": "markdown",
      "metadata": {
        "id": "dCdqNKC5JdAH",
        "colab_type": "text"
      },
      "source": [
        "1.4.1 파일로 저장하기"
      ]
    },
    {
      "cell_type": "code",
      "metadata": {
        "id": "TjEKb-j0geEW",
        "colab_type": "code",
        "colab": {
          "base_uri": "https://localhost:8080/",
          "height": 53
        },
        "outputId": "c58e36c7-0607-44c2-c997-fa639961a15f"
      },
      "source": [
        "%cd/content/drive/My Drive/2020 1학년 1학기/인공지능개론/python/hungry.ipynb #해결하지못한부분\n"
      ],
      "execution_count": 1,
      "outputs": [
        {
          "output_type": "stream",
          "text": [
            "[Errno 2] No such file or directory: '/content/drive/My Drive/2020 1학년 1학기/인공지능개론/python/hungry.ipynb #해결하지못한부분'\n",
            "/content\n"
          ],
          "name": "stdout"
        }
      ]
    },
    {
      "cell_type": "code",
      "metadata": {
        "id": "5yAKt-JHJrOc",
        "colab_type": "code",
        "colab": {
          "base_uri": "https://localhost:8080/",
          "height": 136
        },
        "outputId": "25d2cdf6-d841-48be-ba08-711b9e778560"
      },
      "source": [
        "python hungry.ipynb #해결하지못한부분"
      ],
      "execution_count": 2,
      "outputs": [
        {
          "output_type": "error",
          "ename": "SyntaxError",
          "evalue": "ignored",
          "traceback": [
            "\u001b[0;36m  File \u001b[0;32m\"<ipython-input-2-3ccc390e7e60>\"\u001b[0;36m, line \u001b[0;32m1\u001b[0m\n\u001b[0;31m    python hungry.ipynb #해결하지못한부분\u001b[0m\n\u001b[0m                ^\u001b[0m\n\u001b[0;31mSyntaxError\u001b[0m\u001b[0;31m:\u001b[0m invalid syntax\n"
          ]
        }
      ]
    },
    {
      "cell_type": "markdown",
      "metadata": {
        "id": "IQfJg5hA0o6A",
        "colab_type": "text"
      },
      "source": [
        "1.4.2 클래스"
      ]
    },
    {
      "cell_type": "code",
      "metadata": {
        "id": "CjAI0L5R7yxy",
        "colab_type": "code",
        "colab": {}
      },
      "source": [
        "class Man:\n",
        "  def __init__(self, name):\n",
        "    self.name = name\n",
        "    print(\"Initialized!\")\n",
        "  def hello(self):\n",
        "    print(\"Hello \" + self.name + \"!\")\n",
        "  def goodbye(self):\n",
        "    print(\"Good-bye \" + self.name + \"!\")"
      ],
      "execution_count": 3,
      "outputs": []
    },
    {
      "cell_type": "code",
      "metadata": {
        "id": "RBkCuoQr8uAS",
        "colab_type": "code",
        "colab": {
          "base_uri": "https://localhost:8080/",
          "height": 71
        },
        "outputId": "177191fa-2a41-472c-e446-530bad60a5d3"
      },
      "source": [
        "m = Man(\"David\")\n",
        "m.hello()\n",
        "m.goodbye()"
      ],
      "execution_count": 4,
      "outputs": [
        {
          "output_type": "stream",
          "text": [
            "Initialized!\n",
            "Hello David!\n",
            "Good-bye David!\n"
          ],
          "name": "stdout"
        }
      ]
    },
    {
      "cell_type": "markdown",
      "metadata": {
        "id": "EHRehQ-GHITr",
        "colab_type": "text"
      },
      "source": [
        "1.5.1 넘파이 가져오기"
      ]
    },
    {
      "cell_type": "code",
      "metadata": {
        "id": "WyZ_ORKEHUat",
        "colab_type": "code",
        "colab": {}
      },
      "source": [
        "import numpy as np"
      ],
      "execution_count": 5,
      "outputs": []
    },
    {
      "cell_type": "markdown",
      "metadata": {
        "id": "KBg8cuiJKPzE",
        "colab_type": "text"
      },
      "source": [
        "1.5.2 넘파이 배열 생성하기"
      ]
    },
    {
      "cell_type": "code",
      "metadata": {
        "id": "RC2PQlktHaTn",
        "colab_type": "code",
        "colab": {}
      },
      "source": [
        "x = np.array([1.0, 2.0, 3.0])"
      ],
      "execution_count": 6,
      "outputs": []
    },
    {
      "cell_type": "code",
      "metadata": {
        "id": "6tIfDsxjHtfo",
        "colab_type": "code",
        "colab": {
          "base_uri": "https://localhost:8080/",
          "height": 35
        },
        "outputId": "3a4ba3f8-a559-40c3-f119-37602be51e8d"
      },
      "source": [
        "print(x)"
      ],
      "execution_count": 7,
      "outputs": [
        {
          "output_type": "stream",
          "text": [
            "[1. 2. 3.]\n"
          ],
          "name": "stdout"
        }
      ]
    },
    {
      "cell_type": "code",
      "metadata": {
        "id": "rDLMKICKHxHk",
        "colab_type": "code",
        "colab": {
          "base_uri": "https://localhost:8080/",
          "height": 35
        },
        "outputId": "3e50b5ce-1174-4bca-e262-a8ce1751320f"
      },
      "source": [
        "type(x)"
      ],
      "execution_count": 8,
      "outputs": [
        {
          "output_type": "execute_result",
          "data": {
            "text/plain": [
              "numpy.ndarray"
            ]
          },
          "metadata": {
            "tags": []
          },
          "execution_count": 8
        }
      ]
    },
    {
      "cell_type": "markdown",
      "metadata": {
        "id": "eDjtarvAIOfv",
        "colab_type": "text"
      },
      "source": [
        "1.5.3 넘파이의 산술 연산"
      ]
    },
    {
      "cell_type": "code",
      "metadata": {
        "id": "S524O0OsIiJj",
        "colab_type": "code",
        "colab": {}
      },
      "source": [
        "x = np.array([1.0, 2.0, 3.0])"
      ],
      "execution_count": 9,
      "outputs": []
    },
    {
      "cell_type": "code",
      "metadata": {
        "id": "3NSPnfkdIjPf",
        "colab_type": "code",
        "colab": {}
      },
      "source": [
        "y = np.array([2.0, 4.0, 6.0])"
      ],
      "execution_count": 10,
      "outputs": []
    },
    {
      "cell_type": "code",
      "metadata": {
        "id": "BXjXlUMnIr4Y",
        "colab_type": "code",
        "colab": {
          "base_uri": "https://localhost:8080/",
          "height": 35
        },
        "outputId": "91ea5ec8-d201-4fd5-e138-19d21f335f3b"
      },
      "source": [
        "x + y"
      ],
      "execution_count": 11,
      "outputs": [
        {
          "output_type": "execute_result",
          "data": {
            "text/plain": [
              "array([3., 6., 9.])"
            ]
          },
          "metadata": {
            "tags": []
          },
          "execution_count": 11
        }
      ]
    },
    {
      "cell_type": "code",
      "metadata": {
        "id": "B8rmpB5DIvpY",
        "colab_type": "code",
        "colab": {
          "base_uri": "https://localhost:8080/",
          "height": 35
        },
        "outputId": "59fc107a-ba66-4280-a969-d0ca30264e90"
      },
      "source": [
        "x - y"
      ],
      "execution_count": 12,
      "outputs": [
        {
          "output_type": "execute_result",
          "data": {
            "text/plain": [
              "array([-1., -2., -3.])"
            ]
          },
          "metadata": {
            "tags": []
          },
          "execution_count": 12
        }
      ]
    },
    {
      "cell_type": "code",
      "metadata": {
        "id": "oYTV3CBYIzIc",
        "colab_type": "code",
        "colab": {
          "base_uri": "https://localhost:8080/",
          "height": 35
        },
        "outputId": "60bbcb6f-b140-4932-c393-c537b2381725"
      },
      "source": [
        "x * y"
      ],
      "execution_count": 13,
      "outputs": [
        {
          "output_type": "execute_result",
          "data": {
            "text/plain": [
              "array([ 2.,  8., 18.])"
            ]
          },
          "metadata": {
            "tags": []
          },
          "execution_count": 13
        }
      ]
    },
    {
      "cell_type": "code",
      "metadata": {
        "id": "4NFxjY50I1t5",
        "colab_type": "code",
        "colab": {
          "base_uri": "https://localhost:8080/",
          "height": 35
        },
        "outputId": "ea599366-14a0-4877-fcf7-579fef3f650d"
      },
      "source": [
        "x / y"
      ],
      "execution_count": 14,
      "outputs": [
        {
          "output_type": "execute_result",
          "data": {
            "text/plain": [
              "array([0.5, 0.5, 0.5])"
            ]
          },
          "metadata": {
            "tags": []
          },
          "execution_count": 14
        }
      ]
    },
    {
      "cell_type": "code",
      "metadata": {
        "id": "N-zIqUf9I7QE",
        "colab_type": "code",
        "colab": {}
      },
      "source": [
        "x = np.array([1.0, 2.0, 3.0])"
      ],
      "execution_count": 15,
      "outputs": []
    },
    {
      "cell_type": "code",
      "metadata": {
        "id": "Ap21BxU0JEwG",
        "colab_type": "code",
        "colab": {
          "base_uri": "https://localhost:8080/",
          "height": 35
        },
        "outputId": "1b4dca91-868b-494c-8bb6-877b2887645a"
      },
      "source": [
        "x / 2.0"
      ],
      "execution_count": 16,
      "outputs": [
        {
          "output_type": "execute_result",
          "data": {
            "text/plain": [
              "array([0.5, 1. , 1.5])"
            ]
          },
          "metadata": {
            "tags": []
          },
          "execution_count": 16
        }
      ]
    },
    {
      "cell_type": "markdown",
      "metadata": {
        "id": "MJedN6usKTHO",
        "colab_type": "text"
      },
      "source": [
        "1.5.4 넘파이의 N차원 배열"
      ]
    },
    {
      "cell_type": "code",
      "metadata": {
        "id": "Q8Xj_vZwKVT7",
        "colab_type": "code",
        "colab": {}
      },
      "source": [
        "A = np.array([[1, 2], [3, 4]])"
      ],
      "execution_count": 17,
      "outputs": []
    },
    {
      "cell_type": "code",
      "metadata": {
        "id": "0Lz8KI-hK03r",
        "colab_type": "code",
        "colab": {
          "base_uri": "https://localhost:8080/",
          "height": 53
        },
        "outputId": "7f2453cf-46be-4b6d-cf7f-ea92fc507e31"
      },
      "source": [
        "print(A)"
      ],
      "execution_count": 18,
      "outputs": [
        {
          "output_type": "stream",
          "text": [
            "[[1 2]\n",
            " [3 4]]\n"
          ],
          "name": "stdout"
        }
      ]
    },
    {
      "cell_type": "code",
      "metadata": {
        "id": "jNZbwSfuK317",
        "colab_type": "code",
        "colab": {
          "base_uri": "https://localhost:8080/",
          "height": 35
        },
        "outputId": "7642a3df-821c-4bf5-aae8-c44c1582c8d9"
      },
      "source": [
        "A.shape"
      ],
      "execution_count": 19,
      "outputs": [
        {
          "output_type": "execute_result",
          "data": {
            "text/plain": [
              "(2, 2)"
            ]
          },
          "metadata": {
            "tags": []
          },
          "execution_count": 19
        }
      ]
    },
    {
      "cell_type": "code",
      "metadata": {
        "id": "dEApary7K7-w",
        "colab_type": "code",
        "colab": {
          "base_uri": "https://localhost:8080/",
          "height": 35
        },
        "outputId": "d2c3cb56-3cd5-4930-81d3-3c4db55a3f14"
      },
      "source": [
        "A.dtype"
      ],
      "execution_count": 20,
      "outputs": [
        {
          "output_type": "execute_result",
          "data": {
            "text/plain": [
              "dtype('int64')"
            ]
          },
          "metadata": {
            "tags": []
          },
          "execution_count": 20
        }
      ]
    },
    {
      "cell_type": "code",
      "metadata": {
        "id": "t7RBTQkjK_8x",
        "colab_type": "code",
        "colab": {}
      },
      "source": [
        "B = np.array([[3, 0],[0, 6]])"
      ],
      "execution_count": 21,
      "outputs": []
    },
    {
      "cell_type": "code",
      "metadata": {
        "id": "_gSAMQhNLK3Y",
        "colab_type": "code",
        "colab": {
          "base_uri": "https://localhost:8080/",
          "height": 53
        },
        "outputId": "3dddaeb0-69c9-4d08-9eeb-dcfef2b2ad95"
      },
      "source": [
        "A + B"
      ],
      "execution_count": 22,
      "outputs": [
        {
          "output_type": "execute_result",
          "data": {
            "text/plain": [
              "array([[ 4,  2],\n",
              "       [ 3, 10]])"
            ]
          },
          "metadata": {
            "tags": []
          },
          "execution_count": 22
        }
      ]
    },
    {
      "cell_type": "code",
      "metadata": {
        "id": "UJFdUvXoNbTs",
        "colab_type": "code",
        "colab": {
          "base_uri": "https://localhost:8080/",
          "height": 53
        },
        "outputId": "c3d8143b-00fe-4049-c608-f55f3f0c4ef9"
      },
      "source": [
        "A * B"
      ],
      "execution_count": 23,
      "outputs": [
        {
          "output_type": "execute_result",
          "data": {
            "text/plain": [
              "array([[ 3,  0],\n",
              "       [ 0, 24]])"
            ]
          },
          "metadata": {
            "tags": []
          },
          "execution_count": 23
        }
      ]
    },
    {
      "cell_type": "code",
      "metadata": {
        "id": "gA7LpZrzNhY1",
        "colab_type": "code",
        "colab": {
          "base_uri": "https://localhost:8080/",
          "height": 53
        },
        "outputId": "ba81d611-744d-45f2-e217-85e2fe3464b7"
      },
      "source": [
        "print(A)"
      ],
      "execution_count": 24,
      "outputs": [
        {
          "output_type": "stream",
          "text": [
            "[[1 2]\n",
            " [3 4]]\n"
          ],
          "name": "stdout"
        }
      ]
    },
    {
      "cell_type": "code",
      "metadata": {
        "id": "DaMDuFoUNjLG",
        "colab_type": "code",
        "colab": {
          "base_uri": "https://localhost:8080/",
          "height": 53
        },
        "outputId": "2638b145-3737-4374-d86a-627c4b9a68dc"
      },
      "source": [
        "A * 10"
      ],
      "execution_count": 25,
      "outputs": [
        {
          "output_type": "execute_result",
          "data": {
            "text/plain": [
              "array([[10, 20],\n",
              "       [30, 40]])"
            ]
          },
          "metadata": {
            "tags": []
          },
          "execution_count": 25
        }
      ]
    },
    {
      "cell_type": "markdown",
      "metadata": {
        "id": "pG9CxRV8NsAz",
        "colab_type": "text"
      },
      "source": [
        "1.5.5 브로드캐스트"
      ]
    },
    {
      "cell_type": "code",
      "metadata": {
        "id": "Ktmkrxg8Nusn",
        "colab_type": "code",
        "colab": {}
      },
      "source": [
        "A = np.array([[1,2], [3, 4]])"
      ],
      "execution_count": 26,
      "outputs": []
    },
    {
      "cell_type": "code",
      "metadata": {
        "id": "EMTDaBL1OKGI",
        "colab_type": "code",
        "colab": {}
      },
      "source": [
        "B = np.array([10, 20])"
      ],
      "execution_count": 27,
      "outputs": []
    },
    {
      "cell_type": "code",
      "metadata": {
        "id": "EZyHUfdGXa4B",
        "colab_type": "code",
        "colab": {
          "base_uri": "https://localhost:8080/",
          "height": 53
        },
        "outputId": "116fc380-334c-4c83-b8e8-f375447ccf1a"
      },
      "source": [
        "A * B"
      ],
      "execution_count": 28,
      "outputs": [
        {
          "output_type": "execute_result",
          "data": {
            "text/plain": [
              "array([[10, 40],\n",
              "       [30, 80]])"
            ]
          },
          "metadata": {
            "tags": []
          },
          "execution_count": 28
        }
      ]
    },
    {
      "cell_type": "markdown",
      "metadata": {
        "id": "KXAJf88EXuTK",
        "colab_type": "text"
      },
      "source": [
        "1.5.6 원소 접근"
      ]
    },
    {
      "cell_type": "code",
      "metadata": {
        "id": "vKhbJ-T9XyyH",
        "colab_type": "code",
        "colab": {}
      },
      "source": [
        "X = np.array([[51, 55], [14, 19], [0, 4]])"
      ],
      "execution_count": 29,
      "outputs": []
    },
    {
      "cell_type": "code",
      "metadata": {
        "id": "AVjzKoCeYBXd",
        "colab_type": "code",
        "colab": {
          "base_uri": "https://localhost:8080/",
          "height": 71
        },
        "outputId": "0ad2ac60-fae4-46fc-d216-8729236b95da"
      },
      "source": [
        "print(X)"
      ],
      "execution_count": 30,
      "outputs": [
        {
          "output_type": "stream",
          "text": [
            "[[51 55]\n",
            " [14 19]\n",
            " [ 0  4]]\n"
          ],
          "name": "stdout"
        }
      ]
    },
    {
      "cell_type": "code",
      "metadata": {
        "id": "cQlnBsXBYEQW",
        "colab_type": "code",
        "colab": {
          "base_uri": "https://localhost:8080/",
          "height": 35
        },
        "outputId": "9f15e445-9635-4a70-ee44-17c8968281d6"
      },
      "source": [
        "X[0]"
      ],
      "execution_count": 31,
      "outputs": [
        {
          "output_type": "execute_result",
          "data": {
            "text/plain": [
              "array([51, 55])"
            ]
          },
          "metadata": {
            "tags": []
          },
          "execution_count": 31
        }
      ]
    },
    {
      "cell_type": "code",
      "metadata": {
        "id": "pIr_pA2iYHz6",
        "colab_type": "code",
        "colab": {
          "base_uri": "https://localhost:8080/",
          "height": 35
        },
        "outputId": "e32720d0-22f4-4bc8-96ac-8609a2fcecbc"
      },
      "source": [
        "X[0][1]"
      ],
      "execution_count": 32,
      "outputs": [
        {
          "output_type": "execute_result",
          "data": {
            "text/plain": [
              "55"
            ]
          },
          "metadata": {
            "tags": []
          },
          "execution_count": 32
        }
      ]
    },
    {
      "cell_type": "code",
      "metadata": {
        "id": "E8OgAuXmYLuR",
        "colab_type": "code",
        "colab": {
          "base_uri": "https://localhost:8080/",
          "height": 71
        },
        "outputId": "f5d9a6fb-9e12-4859-d0cb-96729a356832"
      },
      "source": [
        "for row in X:\n",
        "  print(row)"
      ],
      "execution_count": 33,
      "outputs": [
        {
          "output_type": "stream",
          "text": [
            "[51 55]\n",
            "[14 19]\n",
            "[0 4]\n"
          ],
          "name": "stdout"
        }
      ]
    },
    {
      "cell_type": "code",
      "metadata": {
        "id": "VuWtGFx4YSta",
        "colab_type": "code",
        "colab": {}
      },
      "source": [
        "X = X.flatten() #해결하지 못한 부분 내장 함수 또는 메소드 '개체에'flatten '속성이 없다고 함."
      ],
      "execution_count": 34,
      "outputs": []
    },
    {
      "cell_type": "code",
      "metadata": {
        "id": "eULo-mCSb5LR",
        "colab_type": "code",
        "colab": {
          "base_uri": "https://localhost:8080/",
          "height": 35
        },
        "outputId": "a3595fbc-4ef6-415e-d788-5f12c2d31d2c"
      },
      "source": [
        "print(X)"
      ],
      "execution_count": 35,
      "outputs": [
        {
          "output_type": "stream",
          "text": [
            "[51 55 14 19  0  4]\n"
          ],
          "name": "stdout"
        }
      ]
    },
    {
      "cell_type": "code",
      "metadata": {
        "id": "--lbYQS7cA5H",
        "colab_type": "code",
        "colab": {
          "base_uri": "https://localhost:8080/",
          "height": 35
        },
        "outputId": "cdd648db-1b1d-406e-9b1d-7a2264e7622a"
      },
      "source": [
        "X[np.array([0, 2, 4])]"
      ],
      "execution_count": 36,
      "outputs": [
        {
          "output_type": "execute_result",
          "data": {
            "text/plain": [
              "array([51, 14,  0])"
            ]
          },
          "metadata": {
            "tags": []
          },
          "execution_count": 36
        }
      ]
    },
    {
      "cell_type": "code",
      "metadata": {
        "id": "bzvBJEwacI3o",
        "colab_type": "code",
        "colab": {
          "base_uri": "https://localhost:8080/",
          "height": 35
        },
        "outputId": "ddaf3eb0-6200-481a-a103-fcb6bb710a05"
      },
      "source": [
        "X > 15"
      ],
      "execution_count": 37,
      "outputs": [
        {
          "output_type": "execute_result",
          "data": {
            "text/plain": [
              "array([ True,  True, False,  True, False, False])"
            ]
          },
          "metadata": {
            "tags": []
          },
          "execution_count": 37
        }
      ]
    },
    {
      "cell_type": "code",
      "metadata": {
        "id": "v3kljfhqcLbl",
        "colab_type": "code",
        "colab": {
          "base_uri": "https://localhost:8080/",
          "height": 35
        },
        "outputId": "11b775be-5267-4e9b-bbb3-c4b1faeddaf6"
      },
      "source": [
        "X[X>15]"
      ],
      "execution_count": 38,
      "outputs": [
        {
          "output_type": "execute_result",
          "data": {
            "text/plain": [
              "array([51, 55, 19])"
            ]
          },
          "metadata": {
            "tags": []
          },
          "execution_count": 38
        }
      ]
    }
  ]
}