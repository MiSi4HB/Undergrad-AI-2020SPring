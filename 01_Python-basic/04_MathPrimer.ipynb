{
  "nbformat": 4,
  "nbformat_minor": 0,
  "metadata": {
    "colab": {
      "name": "02_4_MathPrimer.ipynb",
      "provenance": [],
      "authorship_tag": "ABX9TyPHpBRzYLszomWQkPvQLnIf",
      "include_colab_link": true
    },
    "kernelspec": {
      "name": "python3",
      "display_name": "Python 3"
    }
  },
  "cells": [
    {
      "cell_type": "markdown",
      "metadata": {
        "id": "view-in-github",
        "colab_type": "text"
      },
      "source": [
        "<a href=\"https://colab.research.google.com/github/Hallymhwangbo/2020-AI_minseo/blob/master/02_4_MathPrimer.ipynb\" target=\"_parent\"><img src=\"https://colab.research.google.com/assets/colab-badge.svg\" alt=\"Open In Colab\"/></a>"
      ]
    },
    {
      "cell_type": "markdown",
      "metadata": {
        "id": "ywHMQ00OSwnb",
        "colab_type": "text"
      },
      "source": [
        "## Math Primer for AI"
      ]
    },
    {
      "cell_type": "code",
      "metadata": {
        "id": "T04XVTh8SvSR",
        "colab_type": "code",
        "colab": {}
      },
      "source": [
        "import numpy as np"
      ],
      "execution_count": 17,
      "outputs": []
    },
    {
      "cell_type": "markdown",
      "metadata": {
        "id": "He6xrsarS3er",
        "colab_type": "text"
      },
      "source": [
        "## Matrix multiplication"
      ]
    },
    {
      "cell_type": "code",
      "metadata": {
        "id": "deEzRS7zS44U",
        "colab_type": "code",
        "colab": {
          "base_uri": "https://localhost:8080/",
          "height": 53
        },
        "outputId": "aa71f729-072b-479d-d2c3-e1222732d70f"
      },
      "source": [
        "a = np.array([[1, -3, 2], [4, 0, -5]])\n",
        "print(a)"
      ],
      "execution_count": 18,
      "outputs": [
        {
          "output_type": "stream",
          "text": [
            "[[ 1 -3  2]\n",
            " [ 4  0 -5]]\n"
          ],
          "name": "stdout"
        }
      ]
    },
    {
      "cell_type": "code",
      "metadata": {
        "id": "lDQQjDolS7pE",
        "colab_type": "code",
        "colab": {
          "base_uri": "https://localhost:8080/",
          "height": 35
        },
        "outputId": "d13da03d-70bd-4d88-f846-c3e11aa69e71"
      },
      "source": [
        "a.shape"
      ],
      "execution_count": 19,
      "outputs": [
        {
          "output_type": "execute_result",
          "data": {
            "text/plain": [
              "(2, 3)"
            ]
          },
          "metadata": {
            "tags": []
          },
          "execution_count": 19
        }
      ]
    },
    {
      "cell_type": "code",
      "metadata": {
        "id": "lkuvOIlSS9l8",
        "colab_type": "code",
        "colab": {
          "base_uri": "https://localhost:8080/",
          "height": 71
        },
        "outputId": "4541bd9c-b5fd-4062-a2b2-877f7c6134c2"
      },
      "source": [
        "b = np.array([[3], [1], [2]])\n",
        "print(b)"
      ],
      "execution_count": 20,
      "outputs": [
        {
          "output_type": "stream",
          "text": [
            "[[3]\n",
            " [1]\n",
            " [2]]\n"
          ],
          "name": "stdout"
        }
      ]
    },
    {
      "cell_type": "code",
      "metadata": {
        "id": "6S1BUE-yS_QN",
        "colab_type": "code",
        "colab": {
          "base_uri": "https://localhost:8080/",
          "height": 53
        },
        "outputId": "7d86d3df-1b3a-4fb6-e02e-eb84ececb8a0"
      },
      "source": [
        "c = np.matmul(a, b)\n",
        "print(c)"
      ],
      "execution_count": 21,
      "outputs": [
        {
          "output_type": "stream",
          "text": [
            "[[4]\n",
            " [2]]\n"
          ],
          "name": "stdout"
        }
      ]
    },
    {
      "cell_type": "code",
      "metadata": {
        "id": "5_zR1T6-TAgU",
        "colab_type": "code",
        "colab": {
          "base_uri": "https://localhost:8080/",
          "height": 53
        },
        "outputId": "d5d3ce3f-bc8b-4cdf-88e6-a62d54d42855"
      },
      "source": [
        "d = np.dot(a, b)\n",
        "print(d)"
      ],
      "execution_count": 22,
      "outputs": [
        {
          "output_type": "stream",
          "text": [
            "[[4]\n",
            " [2]]\n"
          ],
          "name": "stdout"
        }
      ]
    },
    {
      "cell_type": "markdown",
      "metadata": {
        "id": "QcGy2dXEUUIi",
        "colab_type": "text"
      },
      "source": [
        "matmul과 dot의 결과 같다."
      ]
    },
    {
      "cell_type": "code",
      "metadata": {
        "id": "vnq2ZlJKUQte",
        "colab_type": "code",
        "colab": {
          "base_uri": "https://localhost:8080/",
          "height": 35
        },
        "outputId": "a3bf563f-6a4d-44ee-810e-6642a2350f11"
      },
      "source": [
        "c.shape"
      ],
      "execution_count": 23,
      "outputs": [
        {
          "output_type": "execute_result",
          "data": {
            "text/plain": [
              "(2, 1)"
            ]
          },
          "metadata": {
            "tags": []
          },
          "execution_count": 23
        }
      ]
    },
    {
      "cell_type": "code",
      "metadata": {
        "id": "d64d2QuFTCnn",
        "colab_type": "code",
        "colab": {
          "base_uri": "https://localhost:8080/",
          "height": 35
        },
        "outputId": "64cb3451-6e5a-4074-995e-fb2ec361aec1"
      },
      "source": [
        "d.shape"
      ],
      "execution_count": 24,
      "outputs": [
        {
          "output_type": "execute_result",
          "data": {
            "text/plain": [
              "(2, 1)"
            ]
          },
          "metadata": {
            "tags": []
          },
          "execution_count": 24
        }
      ]
    }
  ]
}