{
  "nbformat": 4,
  "nbformat_minor": 0,
  "metadata": {
    "colab": {
      "name": "03_1_linear_regression.ipynb",
      "provenance": [],
      "collapsed_sections": [],
      "authorship_tag": "ABX9TyNkn4VWAyx1yFzrBSYf3ASI",
      "include_colab_link": true
    },
    "kernelspec": {
      "name": "python3",
      "display_name": "Python 3"
    }
  },
  "cells": [
    {
      "cell_type": "markdown",
      "metadata": {
        "id": "view-in-github",
        "colab_type": "text"
      },
      "source": [
        "<a href=\"https://colab.research.google.com/github/Hallymhwangbo/2020-AI_minseo/blob/master/03_1_linear_regression.ipynb\" target=\"_parent\"><img src=\"https://colab.research.google.com/assets/colab-badge.svg\" alt=\"Open In Colab\"/></a>"
      ]
    },
    {
      "cell_type": "markdown",
      "metadata": {
        "id": "O1U7lnUUrfQX",
        "colab_type": "text"
      },
      "source": [
        "## Linear Regression 이해하기 : 매우 중요"
      ]
    },
    {
      "cell_type": "code",
      "metadata": {
        "id": "pi_wsOHVq2gx",
        "colab_type": "code",
        "colab": {
          "base_uri": "https://localhost:8080/",
          "height": 91
        },
        "outputId": "a1c17b35-72c9-4786-dfc8-51d7bdcad784"
      },
      "source": [
        "import tensorflow.compat.v1 as tf\n",
        "tf.disable_v2_behavior()"
      ],
      "execution_count": 1,
      "outputs": [
        {
          "output_type": "stream",
          "text": [
            "WARNING:tensorflow:From /usr/local/lib/python3.6/dist-packages/tensorflow/python/compat/v2_compat.py:96: disable_resource_variables (from tensorflow.python.ops.variable_scope) is deprecated and will be removed in a future version.\n",
            "Instructions for updating:\n",
            "non-resource variables are not supported in the long term\n"
          ],
          "name": "stdout"
        }
      ]
    },
    {
      "cell_type": "code",
      "metadata": {
        "id": "ihDNwBEUqqz9",
        "colab_type": "code",
        "colab": {}
      },
      "source": [
        "import numpy as np\n",
        "import matplotlib.pyplot as plt"
      ],
      "execution_count": 2,
      "outputs": []
    },
    {
      "cell_type": "code",
      "metadata": {
        "id": "OcBLjUV_rCvC",
        "colab_type": "code",
        "colab": {}
      },
      "source": [
        "x_train = [1, 2, 3]"
      ],
      "execution_count": 3,
      "outputs": []
    },
    {
      "cell_type": "code",
      "metadata": {
        "id": "9__mSEhtrF2A",
        "colab_type": "code",
        "colab": {}
      },
      "source": [
        "y_train = [2+1-0.4, 4+1+0.3, 6+1-0.14]"
      ],
      "execution_count": 4,
      "outputs": []
    },
    {
      "cell_type": "code",
      "metadata": {
        "id": "PZ2PVwJFrLnE",
        "colab_type": "code",
        "colab": {
          "base_uri": "https://localhost:8080/",
          "height": 298
        },
        "outputId": "24f57786-cdc0-450d-c2ae-a0223e7e87a2"
      },
      "source": [
        "plt.plot(x_train, y_train,'.-')\n",
        "plt.xlabel('X')\n",
        "plt.ylabel('Y')"
      ],
      "execution_count": 5,
      "outputs": [
        {
          "output_type": "execute_result",
          "data": {
            "text/plain": [
              "Text(0, 0.5, 'Y')"
            ]
          },
          "metadata": {
            "tags": []
          },
          "execution_count": 5
        },
        {
          "output_type": "display_data",
          "data": {
            "image/png": "[encoded data removed]",
            "text/plain": [
              "<Figure size 432x288 with 1 Axes>"
            ]
          },
          "metadata": {
            "tags": [],
            "needs_background": "light"
          }
        }
      ]
    },
    {
      "cell_type": "markdown",
      "metadata": {
        "id": "AfTg7cZerxHP",
        "colab_type": "text"
      },
      "source": [
        "y = 2x + 1\n"
      ]
    },
    {
      "cell_type": "markdown",
      "metadata": {
        "id": "hdHiZEZzr7C3",
        "colab_type": "text"
      },
      "source": [
        "y = wx + b"
      ]
    },
    {
      "cell_type": "markdown",
      "metadata": {
        "id": "ZFZFnF_9sB9e",
        "colab_type": "text"
      },
      "source": [
        "## 초기화, Initialization"
      ]
    },
    {
      "cell_type": "code",
      "metadata": {
        "id": "iwhxFQMxr3yO",
        "colab_type": "code",
        "colab": {}
      },
      "source": [
        "w0 = 100; #바꾸기\n",
        "b0 = -100; #바꾸기"
      ],
      "execution_count": 6,
      "outputs": []
    },
    {
      "cell_type": "markdown",
      "metadata": {
        "id": "ew9gS1U2sM_F",
        "colab_type": "text"
      },
      "source": [
        "## Parameter 설정"
      ]
    },
    {
      "cell_type": "code",
      "metadata": {
        "id": "c_dZzWgJsL3P",
        "colab_type": "code",
        "colab": {}
      },
      "source": [
        "w = tf.Variable(w0*tf.ones([1]), name='weight')\n",
        "b = tf.Variable(b0*tf.ones([1]), name='bias')"
      ],
      "execution_count": 7,
      "outputs": []
    },
    {
      "cell_type": "markdown",
      "metadata": {
        "id": "RQyDg7OFsom0",
        "colab_type": "text"
      },
      "source": [
        "## Our hypothesis XW+b"
      ]
    },
    {
      "cell_type": "code",
      "metadata": {
        "id": "rMBFi_0zsmr4",
        "colab_type": "code",
        "colab": {}
      },
      "source": [
        "hypothesis = x_train * w + b"
      ],
      "execution_count": 8,
      "outputs": []
    },
    {
      "cell_type": "markdown",
      "metadata": {
        "id": "flFv0D-Ss2dI",
        "colab_type": "text"
      },
      "source": [
        "## cost/loss function"
      ]
    },
    {
      "cell_type": "code",
      "metadata": {
        "id": "f6fAGnqJs77n",
        "colab_type": "code",
        "colab": {}
      },
      "source": [
        "cost = tf.reduce_mean(tf.square(hypothesis - y_train))"
      ],
      "execution_count": 9,
      "outputs": []
    },
    {
      "cell_type": "markdown",
      "metadata": {
        "id": "8cMqTXKftIIC",
        "colab_type": "text"
      },
      "source": [
        "## Optimizer 설정"
      ]
    },
    {
      "cell_type": "code",
      "metadata": {
        "id": "E0FoEt9RtLuP",
        "colab_type": "code",
        "colab": {}
      },
      "source": [
        "optimizer = tf.train.GradientDescentOptimizer(learning_rate=0.01)\n",
        "train = optimizer.minimize(cost)"
      ],
      "execution_count": 10,
      "outputs": []
    },
    {
      "cell_type": "markdown",
      "metadata": {
        "id": "97lmg-vota_e",
        "colab_type": "text"
      },
      "source": [
        "## Launch the graph in a session"
      ]
    },
    {
      "cell_type": "code",
      "metadata": {
        "id": "IOl53bGDtafq",
        "colab_type": "code",
        "colab": {}
      },
      "source": [
        "sess = tf.Session()"
      ],
      "execution_count": 11,
      "outputs": []
    },
    {
      "cell_type": "markdown",
      "metadata": {
        "id": "SH8tqXWXtm7Y",
        "colab_type": "text"
      },
      "source": [
        "## Initializes global variables in the graph"
      ]
    },
    {
      "cell_type": "code",
      "metadata": {
        "id": "Wywn1jm4tvMj",
        "colab_type": "code",
        "colab": {}
      },
      "source": [
        "sess.run(tf.global_variables_initializer())"
      ],
      "execution_count": 12,
      "outputs": []
    },
    {
      "cell_type": "markdown",
      "metadata": {
        "id": "ld9UuPpQt9yu",
        "colab_type": "text"
      },
      "source": [
        "## Run"
      ]
    },
    {
      "cell_type": "code",
      "metadata": {
        "id": "ETlDx4Jnt_cw",
        "colab_type": "code",
        "colab": {}
      },
      "source": [
        "nb_epoch = 4000"
      ],
      "execution_count": 13,
      "outputs": []
    },
    {
      "cell_type": "code",
      "metadata": {
        "id": "fp8kIXP2uOBf",
        "colab_type": "code",
        "colab": {}
      },
      "source": [
        "vw = [] #empty list\n",
        "vb = []\n",
        "vcost = []"
      ],
      "execution_count": 14,
      "outputs": []
    },
    {
      "cell_type": "code",
      "metadata": {
        "id": "aPR33k7CuZfk",
        "colab_type": "code",
        "colab": {
          "base_uri": "https://localhost:8080/",
          "height": 1000
        },
        "outputId": "10b9807c-9bc1-43af-b201-5a8381045c6e"
      },
      "source": [
        "for step in range(nb_epoch+1):\n",
        "  sess.run(train)\n",
        "  w1 = sess.run(w)[0] # slope\n",
        "  b1  = sess.run(b)[0] # bias\n",
        "  cost1 = sess.run(cost)\n",
        "  vw.append(w1)\n",
        "  vb.append(b1)\n",
        "  vcost.append(cost1)\n",
        "  if step % 50 == 0: # 50번마다 결과 출력\n",
        "    print(step, '--', cost1, '--', w1, '--', b1)"
      ],
      "execution_count": 15,
      "outputs": [
        {
          "output_type": "stream",
          "text": [
            "0 -- 12619.296 -- 94.89187 -- -101.9016\n",
            "50 -- 1627.353 -- 49.0924 -- -105.79356\n",
            "100 -- 1279.1984 -- 43.66899 -- -93.76704\n",
            "150 -- 1005.5817 -- 38.958935 -- -83.06081\n",
            "200 -- 790.49414 -- 34.783184 -- -73.56835\n",
            "250 -- 621.4158 -- 31.08089 -- -65.15217\n",
            "300 -- 488.5048 -- 27.79837 -- -57.690235\n",
            "350 -- 384.02475 -- 24.888033 -- -51.074356\n",
            "400 -- 301.89392 -- 22.307678 -- -45.208607\n",
            "450 -- 237.33153 -- 20.019888 -- -40.00792\n",
            "500 -- 186.57965 -- 17.991493 -- -35.3969\n",
            "550 -- 146.68407 -- 16.193083 -- -31.308693\n",
            "600 -- 115.32245 -- 14.598578 -- -27.684008\n",
            "650 -- 90.66941 -- 13.184862 -- -24.4703\n",
            "700 -- 71.28987 -- 11.931438 -- -21.620974\n",
            "750 -- 56.055805 -- 10.820131 -- -19.094711\n",
            "800 -- 44.080418 -- 9.834826 -- -16.854883\n",
            "850 -- 34.666676 -- 8.961237 -- -14.869008\n",
            "900 -- 27.266623 -- 8.186697 -- -13.108297\n",
            "950 -- 21.4495 -- 7.4999766 -- -11.547219\n",
            "1000 -- 16.87671 -- 6.8911176 -- -10.163138\n",
            "1050 -- 13.282069 -- 6.3512907 -- -8.935986\n",
            "1100 -- 10.456365 -- 5.872672 -- -7.8479733\n",
            "1150 -- 8.235105 -- 5.4483204 -- -6.8833222\n",
            "1200 -- 6.4889846 -- 5.0720806 -- -6.0280423\n",
            "1250 -- 5.1163783 -- 4.7385015 -- -5.269738\n",
            "1300 -- 4.0373845 -- 4.4427443 -- -4.5974116\n",
            "1350 -- 3.1891994 -- 4.1805215 -- -4.001317\n",
            "1400 -- 2.522447 -- 3.9480295 -- -3.4728081\n",
            "1450 -- 1.9983176 -- 3.7418973 -- -3.0042212\n",
            "1500 -- 1.5863041 -- 3.559137 -- -2.5887637\n",
            "1550 -- 1.2624236 -- 3.3970978 -- -2.2204115\n",
            "1600 -- 1.007824 -- 3.2534316 -- -1.893824\n",
            "1650 -- 0.8076861 -- 3.1260548 -- -1.6042664\n",
            "1700 -- 0.65035886 -- 3.0131202 -- -1.347539\n",
            "1750 -- 0.52668613 -- 2.9129899 -- -1.11992\n",
            "1800 -- 0.42946723 -- 2.8242128 -- -0.9181089\n",
            "1850 -- 0.35304436 -- 2.7455013 -- -0.73917896\n",
            "1900 -- 0.29296932 -- 2.6757143 -- -0.58053696\n",
            "1950 -- 0.24574487 -- 2.61384 -- -0.43988222\n",
            "2000 -- 0.20862234 -- 2.5589812 -- -0.3151753\n",
            "2050 -- 0.17944022 -- 2.5103426 -- -0.2046078\n",
            "2100 -- 0.15650058 -- 2.4672184 -- -0.10657664\n",
            "2150 -- 0.13846804 -- 2.428984 -- -0.019660702\n",
            "2200 -- 0.12429265 -- 2.3950844 -- 0.057400897\n",
            "2250 -- 0.113149546 -- 2.3650284 -- 0.12572512\n",
            "2300 -- 0.10439002 -- 2.3383806 -- 0.18630248\n",
            "2350 -- 0.097504355 -- 2.314754 -- 0.24001127\n",
            "2400 -- 0.09209138 -- 2.2938058 -- 0.28763032\n",
            "2450 -- 0.087836556 -- 2.2752333 -- 0.3298506\n",
            "2500 -- 0.0844918 -- 2.2587664 -- 0.3672836\n",
            "2550 -- 0.08186249 -- 2.2441666 -- 0.4004725\n",
            "2600 -- 0.079795584 -- 2.2312222 -- 0.4298982\n",
            "2650 -- 0.07817077 -- 2.2197454 -- 0.4559878\n",
            "2700 -- 0.07689356 -- 2.2095697 -- 0.4791191\n",
            "2750 -- 0.07588956 -- 2.200548 -- 0.4996279\n",
            "2800 -- 0.07510037 -- 2.1925492 -- 0.5178111\n",
            "2850 -- 0.074480005 -- 2.1854572 -- 0.5339329\n",
            "2900 -- 0.07399214 -- 2.1791694 -- 0.5482266\n",
            "2950 -- 0.07360888 -- 2.1735945 -- 0.5608995\n",
            "3000 -- 0.073307574 -- 2.1686516 -- 0.5721352\n",
            "3050 -- 0.0730706 -- 2.1642692 -- 0.58209795\n",
            "3100 -- 0.07288441 -- 2.1603837 -- 0.5909306\n",
            "3150 -- 0.072738044 -- 2.1569388 -- 0.598762\n",
            "3200 -- 0.07262294 -- 2.1538844 -- 0.60570526\n",
            "3250 -- 0.072532445 -- 2.1511762 -- 0.6118612\n",
            "3300 -- 0.07246134 -- 2.148775 -- 0.6173194\n",
            "3350 -- 0.07240547 -- 2.1466465 -- 0.6221586\n",
            "3400 -- 0.07236152 -- 2.1447592 -- 0.6264492\n",
            "3450 -- 0.07232698 -- 2.1430855 -- 0.6302533\n",
            "3500 -- 0.07229976 -- 2.1416018 -- 0.6336262\n",
            "3550 -- 0.07227845 -- 2.1402864 -- 0.6366165\n",
            "3600 -- 0.072261766 -- 2.1391203 -- 0.63926756\n",
            "3650 -- 0.07224848 -- 2.138086 -- 0.6416183\n",
            "3700 -- 0.07223815 -- 2.1371694 -- 0.6437024\n",
            "3750 -- 0.072230026 -- 2.1363566 -- 0.64555025\n",
            "3800 -- 0.07222359 -- 2.135636 -- 0.64718837\n",
            "3850 -- 0.07221855 -- 2.134997 -- 0.6486407\n",
            "3900 -- 0.07221454 -- 2.1344306 -- 0.6499284\n",
            "3950 -- 0.07221148 -- 2.1339285 -- 0.65106994\n",
            "4000 -- 0.07220907 -- 2.1334834 -- 0.65208215\n"
          ],
          "name": "stdout"
        }
      ]
    },
    {
      "cell_type": "code",
      "metadata": {
        "id": "-8K4H-bwuuA1",
        "colab_type": "code",
        "colab": {
          "base_uri": "https://localhost:8080/",
          "height": 53
        },
        "outputId": "fe96886e-4999-491c-c420-617fbe3478d5"
      },
      "source": [
        "w1 = sess.run(w)[0] # slope\n",
        "b1 = sess.run(b)[0] # bias\n",
        "str1 = 'y={:.3}x + {:.3}'.format(w1, b1)\n",
        "print(w1, b1)\n",
        "print(str1)"
      ],
      "execution_count": 16,
      "outputs": [
        {
          "output_type": "stream",
          "text": [
            "2.1334834 0.65208215\n",
            "y=2.13x + 0.652\n"
          ],
          "name": "stdout"
        }
      ]
    },
    {
      "cell_type": "code",
      "metadata": {
        "id": "4w_80H3uu1dr",
        "colab_type": "code",
        "colab": {
          "base_uri": "https://localhost:8080/",
          "height": 313
        },
        "outputId": "16b8702e-36a7-4c08-ebc6-91e366d7233e"
      },
      "source": [
        "plt.figure(1)\n",
        "plt.plot(x_train, y_train,'o')\n",
        "x1 = np.min(x_train)-1, np.max(x_train)+1\n",
        "y1 = np.dot(w1,x1) + b1\n",
        "plt.plot(x1, y1)\n",
        "plt.grid()\n",
        "plt.xlabel('epoch')\n",
        "plt.title(str1)"
      ],
      "execution_count": 17,
      "outputs": [
        {
          "output_type": "execute_result",
          "data": {
            "text/plain": [
              "Text(0.5, 1.0, 'y=2.13x + 0.652')"
            ]
          },
          "metadata": {
            "tags": []
          },
          "execution_count": 17
        },
        {
          "output_type": "display_data",
          "data": {
            "image/png": "[encoded data removed]",
            "text/plain": [
              "<Figure size 432x288 with 1 Axes>"
            ]
          },
          "metadata": {
            "tags": [],
            "needs_background": "light"
          }
        }
      ]
    },
    {
      "cell_type": "code",
      "metadata": {
        "id": "ZbvfrQOBvcIz",
        "colab_type": "code",
        "colab": {
          "base_uri": "https://localhost:8080/",
          "height": 297
        },
        "outputId": "24e11a89-8085-4ea7-8a62-e7ec19bf3c49"
      },
      "source": [
        "plt.plot(vb)\n",
        "plt.plot(vw)\n",
        "plt.legend(['b', 'w'])\n",
        "plt.grid()\n",
        "plt.xlabel('epoch')"
      ],
      "execution_count": 18,
      "outputs": [
        {
          "output_type": "execute_result",
          "data": {
            "text/plain": [
              "Text(0.5, 0, 'epoch')"
            ]
          },
          "metadata": {
            "tags": []
          },
          "execution_count": 18
        },
        {
          "output_type": "display_data",
          "data": {
            "image/png": "[encoded data removed]",
            "text/plain": [
              "<Figure size 432x288 with 1 Axes>"
            ]
          },
          "metadata": {
            "tags": [],
            "needs_background": "light"
          }
        }
      ]
    },
    {
      "cell_type": "code",
      "metadata": {
        "id": "-s5OS8hTvDKF",
        "colab_type": "code",
        "colab": {
          "base_uri": "https://localhost:8080/",
          "height": 283
        },
        "outputId": "47d4e232-7b3f-4aaf-ce5e-c6d1c5b3cacb"
      },
      "source": [
        "plt.plot(vcost)"
      ],
      "execution_count": 19,
      "outputs": [
        {
          "output_type": "execute_result",
          "data": {
            "text/plain": [
              "[<matplotlib.lines.Line2D at 0x7f5cbedb6e48>]"
            ]
          },
          "metadata": {
            "tags": []
          },
          "execution_count": 19
        },
        {
          "output_type": "display_data",
          "data": {
            "image/png": "[encoded data removed]",
            "text/plain": [
              "<Figure size 432x288 with 1 Axes>"
            ]
          },
          "metadata": {
            "tags": [],
            "needs_background": "light"
          }
        }
      ]
    }
  ]
}