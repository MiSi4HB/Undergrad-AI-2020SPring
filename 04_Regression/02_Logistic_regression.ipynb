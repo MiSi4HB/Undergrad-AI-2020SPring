{
  "nbformat": 4,
  "nbformat_minor": 0,
  "metadata": {
    "colab": {
      "name": "03_3_logistic_regression.ipynb",
      "provenance": [],
      "collapsed_sections": [],
      "authorship_tag": "ABX9TyPYYmpv2ghM5qwDRgshWjcB",
      "include_colab_link": true
    },
    "kernelspec": {
      "name": "python3",
      "display_name": "Python 3"
    }
  },
  "cells": [
    {
      "cell_type": "markdown",
      "metadata": {
        "id": "view-in-github",
        "colab_type": "text"
      },
      "source": [
        "<a href=\"https://colab.research.google.com/github/Hallymhwangbo/2020-AI_minseo/blob/master/03_3_logistic_regression.ipynb\" target=\"_parent\"><img src=\"https://colab.research.google.com/assets/colab-badge.svg\" alt=\"Open In Colab\"/></a>"
      ]
    },
    {
      "cell_type": "code",
      "metadata": {
        "id": "W43_jSaMK2uE",
        "colab_type": "code",
        "colab": {
          "base_uri": "https://localhost:8080/",
          "height": 71
        },
        "outputId": "e4d566eb-f289-4955-e791-5ba27766deb5"
      },
      "source": [
        "#import tensorflow as tf\n",
        "import tensorflow.compat.v1 as tf\n",
        "tf.disable_v2_behavior()"
      ],
      "execution_count": 1,
      "outputs": [
        {
          "output_type": "stream",
          "text": [
            "WARNING:tensorflow:From /usr/local/lib/python3.6/dist-packages/tensorflow/python/compat/v2_compat.py:96: disable_resource_variables (from tensorflow.python.ops.variable_scope) is deprecated and will be removed in a future version.\n",
            "Instructions for updating:\n",
            "non-resource variables are not supported in the long term\n"
          ],
          "name": "stdout"
        }
      ]
    },
    {
      "cell_type": "code",
      "metadata": {
        "id": "COpCDj8PLBWa",
        "colab_type": "code",
        "colab": {}
      },
      "source": [
        "import numpy as np\n",
        "import matplotlib.pyplot as plt"
      ],
      "execution_count": 2,
      "outputs": []
    },
    {
      "cell_type": "code",
      "metadata": {
        "id": "eQYIQSQfLKUI",
        "colab_type": "code",
        "colab": {}
      },
      "source": [
        "x_data = [[1,2], [2,3], [3,1], [4,3], [5,3], [6,2]]\n",
        "y_data = [[0],[0],[0],[1],[1],[1]]"
      ],
      "execution_count": 3,
      "outputs": []
    },
    {
      "cell_type": "code",
      "metadata": {
        "id": "5hmD1ujILLz4",
        "colab_type": "code",
        "colab": {
          "base_uri": "https://localhost:8080/",
          "height": 35
        },
        "outputId": "4f3da1ed-2323-49f5-dcf9-9d15729cddb3"
      },
      "source": [
        "np.shape(x_data)"
      ],
      "execution_count": 4,
      "outputs": [
        {
          "output_type": "execute_result",
          "data": {
            "text/plain": [
              "(6, 2)"
            ]
          },
          "metadata": {
            "tags": []
          },
          "execution_count": 4
        }
      ]
    },
    {
      "cell_type": "code",
      "metadata": {
        "id": "JQ4ljeo5LHM6",
        "colab_type": "code",
        "colab": {}
      },
      "source": [
        "X = tf.placeholder(tf.float32, shape=[None, 2])\n",
        "Y = tf.placeholder(tf.float32, shape=[None, 1])\n",
        "# input = 2, output = 1\n",
        "W = tf.Variable(tf.random_normal([2,1]), name='weight')\n",
        "# output = 1\n",
        "b = tf.Variable(tf.random_normal([1]), name='bias')"
      ],
      "execution_count": 5,
      "outputs": []
    },
    {
      "cell_type": "markdown",
      "metadata": {
        "id": "GS0JoFLxLSIq",
        "colab_type": "text"
      },
      "source": [
        "## Hypothesis"
      ]
    },
    {
      "cell_type": "code",
      "metadata": {
        "id": "rZcRJ0MMLRqM",
        "colab_type": "code",
        "colab": {}
      },
      "source": [
        "# sigmoid function 은 우리의 가설 H(X) = 1/(1+e^(-w.transpose * X))\n",
        "# tf.div(1., tf.exp(tf.matmul(X, W) + b)) 와 같음\n",
        "hypothesis = tf.sigmoid(tf.matmul(X, W) + b)"
      ],
      "execution_count": 6,
      "outputs": []
    },
    {
      "cell_type": "code",
      "metadata": {
        "id": "201-ZdreLuAw",
        "colab_type": "code",
        "colab": {}
      },
      "source": [
        "# 새롭게 정의된 오차함수\n",
        "cost = -tf.reduce_mean(Y * tf.log(hypothesis) + (1 - Y) * (tf.log(1 - hypothesis)))\n",
        "# 학습 그래프 최적화 알고리즘 경사하강법\n",
        "train = tf.train.GradientDescentOptimizer(learning_rate=0.01).minimize(cost)\n"
      ],
      "execution_count": 7,
      "outputs": []
    },
    {
      "cell_type": "code",
      "metadata": {
        "id": "J8d6c2pxL_4p",
        "colab_type": "code",
        "colab": {}
      },
      "source": [
        "# 예측값 H(X) > 0.5 is true, else false\n",
        "predicted = tf.cast(hypothesis > 0.5, dtype=tf.float32)\n",
        "# 0이나 1의 값을 트레이닝 횟수만큼 평균치 계산\n",
        "accuracy = tf.reduce_mean(tf.cast(tf.equal(predicted, Y), dtype=tf.float32))"
      ],
      "execution_count": 8,
      "outputs": []
    },
    {
      "cell_type": "markdown",
      "metadata": {
        "id": "61b1NgSaLxzH",
        "colab_type": "text"
      },
      "source": [
        "## Train!"
      ]
    },
    {
      "cell_type": "code",
      "metadata": {
        "id": "lBxSdnuHLv4x",
        "colab_type": "code",
        "colab": {}
      },
      "source": [
        "sess = tf.InteractiveSession()"
      ],
      "execution_count": 9,
      "outputs": []
    },
    {
      "cell_type": "code",
      "metadata": {
        "id": "dIRvqUQEMYmW",
        "colab_type": "code",
        "colab": {}
      },
      "source": [
        "sess.run(tf.global_variables_initializer())"
      ],
      "execution_count": 10,
      "outputs": []
    },
    {
      "cell_type": "code",
      "metadata": {
        "id": "cMKqcZ7VOPo2",
        "colab_type": "code",
        "colab": {}
      },
      "source": [
        "vcost = []"
      ],
      "execution_count": 11,
      "outputs": []
    },
    {
      "cell_type": "code",
      "metadata": {
        "id": "tyUb7YMIMdEK",
        "colab_type": "code",
        "colab": {
          "base_uri": "https://localhost:8080/",
          "height": 215
        },
        "outputId": "dacc6f46-2e0f-4a59-815b-7ceb575c70af"
      },
      "source": [
        "for step in range(10001):\n",
        "  cost_val,_= sess.run([cost, train], feed_dict={X:x_data, Y:y_data})\n",
        "  vcost.append(cost_val)\n",
        "  \n",
        "  if step % 1000 == 0:\n",
        "     print(step, '\\t', cost_val)"
      ],
      "execution_count": 12,
      "outputs": [
        {
          "output_type": "stream",
          "text": [
            "0 \t 1.3314523\n",
            "1000 \t 0.42095295\n",
            "2000 \t 0.35564753\n",
            "3000 \t 0.30614525\n",
            "4000 \t 0.267371\n",
            "5000 \t 0.23660184\n",
            "6000 \t 0.21182746\n",
            "7000 \t 0.1915763\n",
            "8000 \t 0.17478055\n",
            "9000 \t 0.16066198\n",
            "10000 \t 0.14864819\n"
          ],
          "name": "stdout"
        }
      ]
    },
    {
      "cell_type": "code",
      "metadata": {
        "id": "XFj8ZdqtOZzH",
        "colab_type": "code",
        "colab": {
          "base_uri": "https://localhost:8080/",
          "height": 297
        },
        "outputId": "4c01da34-4b21-4179-cf8d-a0a810b47e86"
      },
      "source": [
        "plt.plot(vcost)\n",
        "plt.xlabel('epoch')\n",
        "plt.ylabel('Y')"
      ],
      "execution_count": 13,
      "outputs": [
        {
          "output_type": "execute_result",
          "data": {
            "text/plain": [
              "Text(0, 0.5, 'Y')"
            ]
          },
          "metadata": {
            "tags": []
          },
          "execution_count": 13
        },
        {
          "output_type": "display_data",
          "data": {
            "image/png": "[encoded data removed]",
            "text/plain": [
              "<Figure size 432x288 with 1 Axes>"
            ]
          },
          "metadata": {
            "tags": [],
            "needs_background": "light"
          }
        }
      ]
    },
    {
      "cell_type": "markdown",
      "metadata": {
        "id": "E2O7FkVsNpV-",
        "colab_type": "text"
      },
      "source": [
        "Test!"
      ]
    },
    {
      "cell_type": "code",
      "metadata": {
        "id": "NSNI4fwyMeEu",
        "colab_type": "code",
        "colab": {
          "base_uri": "https://localhost:8080/",
          "height": 35
        },
        "outputId": "a1cf6da2-d13d-43f7-a0a6-e4bebd2bf7ab"
      },
      "source": [
        "sess.run(hypothesis,feed_dict={X:[[5,3]]} ) # 5일동안 3시간 공부하면 합격할까?"
      ],
      "execution_count": 14,
      "outputs": [
        {
          "output_type": "execute_result",
          "data": {
            "text/plain": [
              "array([[0.9400659]], dtype=float32)"
            ]
          },
          "metadata": {
            "tags": []
          },
          "execution_count": 14
        }
      ]
    },
    {
      "cell_type": "markdown",
      "metadata": {
        "id": "H3qA8A8iOyv4",
        "colab_type": "text"
      },
      "source": [
        "--> 92퍼센트의 확률로 합격한다"
      ]
    },
    {
      "cell_type": "code",
      "metadata": {
        "id": "dl4_4TZNO5Fz",
        "colab_type": "code",
        "colab": {
          "base_uri": "https://localhost:8080/",
          "height": 35
        },
        "outputId": "be15997a-bc21-4d25-a996-ee16cd5e0805"
      },
      "source": [
        "sess.run(predicted,feed_dict={X:[[5,3]]} )"
      ],
      "execution_count": 15,
      "outputs": [
        {
          "output_type": "execute_result",
          "data": {
            "text/plain": [
              "array([[1.]], dtype=float32)"
            ]
          },
          "metadata": {
            "tags": []
          },
          "execution_count": 15
        }
      ]
    },
    {
      "cell_type": "code",
      "metadata": {
        "id": "5ZL7phI5PU7N",
        "colab_type": "code",
        "colab": {
          "base_uri": "https://localhost:8080/",
          "height": 35
        },
        "outputId": "06f2722c-3568-4642-9ba0-786d4e3f3f1e"
      },
      "source": [
        "sess.run(hypothesis,feed_dict={X:[[4,3]]} )"
      ],
      "execution_count": 16,
      "outputs": [
        {
          "output_type": "execute_result",
          "data": {
            "text/plain": [
              "array([[0.7821626]], dtype=float32)"
            ]
          },
          "metadata": {
            "tags": []
          },
          "execution_count": 16
        }
      ]
    },
    {
      "cell_type": "code",
      "metadata": {
        "id": "RRPQ5oxzPguI",
        "colab_type": "code",
        "colab": {
          "base_uri": "https://localhost:8080/",
          "height": 35
        },
        "outputId": "db18674b-c89b-41f4-f652-364442d193c3"
      },
      "source": [
        "sess.run(predicted,feed_dict={X:[[4,3]]} )"
      ],
      "execution_count": 17,
      "outputs": [
        {
          "output_type": "execute_result",
          "data": {
            "text/plain": [
              "array([[1.]], dtype=float32)"
            ]
          },
          "metadata": {
            "tags": []
          },
          "execution_count": 17
        }
      ]
    },
    {
      "cell_type": "code",
      "metadata": {
        "id": "eyLkYCu0PsnL",
        "colab_type": "code",
        "colab": {
          "base_uri": "https://localhost:8080/",
          "height": 35
        },
        "outputId": "35e6d46a-39c0-4c18-a8b6-400532acf682"
      },
      "source": [
        "sess.run(hypothesis,feed_dict={X:[[3,3]]} )"
      ],
      "execution_count": 18,
      "outputs": [
        {
          "output_type": "execute_result",
          "data": {
            "text/plain": [
              "array([[0.4511369]], dtype=float32)"
            ]
          },
          "metadata": {
            "tags": []
          },
          "execution_count": 18
        }
      ]
    },
    {
      "cell_type": "code",
      "metadata": {
        "id": "omdX-bdyPu8O",
        "colab_type": "code",
        "colab": {
          "base_uri": "https://localhost:8080/",
          "height": 35
        },
        "outputId": "18c6c66c-0a78-4d34-94e6-e3b107f3cc5d"
      },
      "source": [
        "sess.run(predicted,feed_dict={X:[[3,3]]} )"
      ],
      "execution_count": 19,
      "outputs": [
        {
          "output_type": "execute_result",
          "data": {
            "text/plain": [
              "array([[0.]], dtype=float32)"
            ]
          },
          "metadata": {
            "tags": []
          },
          "execution_count": 19
        }
      ]
    }
  ]
}