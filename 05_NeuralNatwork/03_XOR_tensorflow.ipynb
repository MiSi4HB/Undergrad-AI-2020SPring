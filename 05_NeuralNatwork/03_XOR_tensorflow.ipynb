{
  "nbformat": 4,
  "nbformat_minor": 0,
  "metadata": {
    "kernelspec": {
      "display_name": "Python 3",
      "language": "python",
      "name": "python3"
    },
    "language_info": {
      "codemirror_mode": {
        "name": "ipython",
        "version": 3
      },
      "file_extension": ".py",
      "mimetype": "text/x-python",
      "name": "python",
      "nbconvert_exporter": "python",
      "pygments_lexer": "ipython3",
      "version": "3.6.8"
    },
    "colab": {
      "name": "04_3_xor_tensorflow.ipynb",
      "provenance": [],
      "collapsed_sections": [],
      "include_colab_link": true
    }
  },
  "cells": [
    {
      "cell_type": "markdown",
      "metadata": {
        "id": "view-in-github",
        "colab_type": "text"
      },
      "source": [
        "<a href=\"https://colab.research.google.com/github/Hallymhwangbo/2020-AI_minseo/blob/master/04_3_xor_tensorflow.ipynb\" target=\"_parent\"><img src=\"https://colab.research.google.com/assets/colab-badge.svg\" alt=\"Open In Colab\"/></a>"
      ]
    },
    {
      "cell_type": "markdown",
      "metadata": {
        "id": "HKceILHFvDW6",
        "colab_type": "text"
      },
      "source": [
        "## XOR gate 이해하기"
      ]
    },
    {
      "cell_type": "markdown",
      "metadata": {
        "id": "uhHF3s84kJFQ",
        "colab_type": "text"
      },
      "source": [
        "and gate의 가설로 실행 했을 때는 예측을 할 수 없음"
      ]
    },
    {
      "cell_type": "code",
      "metadata": {
        "id": "4hdRvl_pvDW7",
        "colab_type": "code",
        "colab": {
          "base_uri": "https://localhost:8080/",
          "height": 71
        },
        "outputId": "44d5a7a0-d4c7-456d-e362-8607bfed434e"
      },
      "source": [
        "import tensorflow.compat.v1 as tf\n",
        "tf.disable_v2_behavior()\n",
        "import numpy as np\n",
        "import matplotlib.pyplot as plt"
      ],
      "execution_count": 1,
      "outputs": [
        {
          "output_type": "stream",
          "text": [
            "WARNING:tensorflow:From /usr/local/lib/python3.6/dist-packages/tensorflow/python/compat/v2_compat.py:96: disable_resource_variables (from tensorflow.python.ops.variable_scope) is deprecated and will be removed in a future version.\n",
            "Instructions for updating:\n",
            "non-resource variables are not supported in the long term\n"
          ],
          "name": "stdout"
        }
      ]
    },
    {
      "cell_type": "code",
      "metadata": {
        "id": "Bs_VOlXevDW_",
        "colab_type": "code",
        "colab": {}
      },
      "source": [
        "x_data = [[0, 0],\n",
        "          [0, 1],\n",
        "          [1, 0],\n",
        "          [1, 1]]\n",
        "#AND\n",
        "y_data = [[0],\n",
        "          [1],\n",
        "          [1],\n",
        "          [0]]\n",
        "\n",
        "x_data = np.array(x_data, dtype=np.float32)\n",
        "y_data = np.array(y_data, dtype=np.float32)"
      ],
      "execution_count": 2,
      "outputs": []
    },
    {
      "cell_type": "code",
      "metadata": {
        "id": "SHKVAnjsvDXD",
        "colab_type": "code",
        "colab": {}
      },
      "source": [
        "X = tf.placeholder(tf.float32, [None, 2]) # none-> 데이터가 몇 개가 들어올 지는 모른다. 데이터의 차원은 2\n",
        "Y = tf.placeholder(tf.float32, [None, 1])"
      ],
      "execution_count": 3,
      "outputs": []
    },
    {
      "cell_type": "code",
      "metadata": {
        "id": "HOLSXOO2vDXG",
        "colab_type": "code",
        "colab": {}
      },
      "source": [
        "W = tf.Variable(tf.random_normal([2, 1]), name='weight')#and gate에 사용된 가설은 xor에서 쓸 수 없었다.\n",
        "b = tf.Variable(tf.random_normal([1]), name='bias')\n",
        "hypothesis_ori = tf.sigmoid(tf.matmul(X, W) + b)"
      ],
      "execution_count": 4,
      "outputs": []
    },
    {
      "cell_type": "code",
      "metadata": {
        "id": "5UgAaRfPkZAo",
        "colab_type": "code",
        "colab": {}
      },
      "source": [
        "W1 = tf.Variable(tf.random_normal([2, 2]), name='weight1')\n",
        "b1 = tf.Variable(tf.random_normal([2]), name='bias1')\n",
        "layer1 = tf.sigmoid(tf.matmul(X, W1) + b1)\n",
        "\n",
        "W2 = tf.Variable(tf.random_normal([2, 1]), name='weight2')\n",
        "b2 = tf.Variable(tf.random_normal([1]), name='bias2')\n",
        "hypothesis = tf.sigmoid(tf.matmul(layer1, W2) + b2)"
      ],
      "execution_count": 5,
      "outputs": []
    },
    {
      "cell_type": "code",
      "metadata": {
        "id": "4mJ-5szlvDXJ",
        "colab_type": "code",
        "colab": {}
      },
      "source": [
        "cost = -tf.reduce_mean(Y * tf.log(hypothesis) + (1 - Y) * tf.log(1 - hypothesis))\n",
        "#train = tf.train.GradientDescentOptimizer(learning_rate=0.01).minimize(cost)\n",
        "train = tf.train.AdamOptimizer(learning_rate=0.001).minimize(cost)"
      ],
      "execution_count": 6,
      "outputs": []
    },
    {
      "cell_type": "code",
      "metadata": {
        "id": "3yS0Yuv0vDXL",
        "colab_type": "code",
        "colab": {}
      },
      "source": [
        "predicted = tf.cast(hypothesis > 0.5, dtype=tf.float32)\n",
        "accuracy = tf.reduce_mean(tf.cast(tf.equal(predicted, Y), dtype=tf.float32))#머신러닝이 예측한 것과 정답 비교 (정답=1 오답=0 --> 평균을 낸다) "
      ],
      "execution_count": 7,
      "outputs": []
    },
    {
      "cell_type": "code",
      "metadata": {
        "id": "OSVym-CmvDXN",
        "colab_type": "code",
        "colab": {}
      },
      "source": [
        "sess = tf.Session()"
      ],
      "execution_count": 8,
      "outputs": []
    },
    {
      "cell_type": "code",
      "metadata": {
        "id": "ljht8DdSvDXQ",
        "colab_type": "code",
        "colab": {}
      },
      "source": [
        "sess.run(tf.global_variables_initializer())"
      ],
      "execution_count": 9,
      "outputs": []
    },
    {
      "cell_type": "code",
      "metadata": {
        "id": "EzC8hAifvDXS",
        "colab_type": "code",
        "colab": {}
      },
      "source": [
        "vcost =[]"
      ],
      "execution_count": 10,
      "outputs": []
    },
    {
      "cell_type": "code",
      "metadata": {
        "id": "1otYBj_jvDXU",
        "colab_type": "code",
        "colab": {
          "base_uri": "https://localhost:8080/",
          "height": 575
        },
        "outputId": "cfe8fc4b-b9e5-4bd2-baf4-3ac72ef82a13"
      },
      "source": [
        "for step in range(30001):\n",
        "\n",
        "    cost1, _ = sess.run([cost, train], feed_dict={X: x_data, Y: y_data})\n",
        "    vcost.append(cost1)\n",
        "    if step %1000 ==0: \n",
        "        print(cost1)"
      ],
      "execution_count": 11,
      "outputs": [
        {
          "output_type": "stream",
          "text": [
            "0.6972015\n",
            "0.6231758\n",
            "0.4987903\n",
            "0.43147343\n",
            "0.39699376\n",
            "0.37786984\n",
            "0.36654103\n",
            "0.35952973\n",
            "0.35506833\n",
            "0.35217905\n",
            "0.35028747\n",
            "0.34904063\n",
            "0.34821475\n",
            "0.34766677\n",
            "0.34730208\n",
            "0.34705925\n",
            "0.34689757\n",
            "0.34678948\n",
            "0.34671766\n",
            "0.3466696\n",
            "0.3466376\n",
            "0.34661633\n",
            "0.34660238\n",
            "0.34659317\n",
            "0.34658688\n",
            "0.346583\n",
            "0.34658027\n",
            "0.34657836\n",
            "0.34657693\n",
            "0.34657615\n",
            "0.3465755\n"
          ],
          "name": "stdout"
        }
      ]
    },
    {
      "cell_type": "code",
      "metadata": {
        "id": "vuQ9_3psvDXX",
        "colab_type": "code",
        "colab": {
          "base_uri": "https://localhost:8080/",
          "height": 313
        },
        "outputId": "eb025ce4-2510-467b-f38b-22547bd2f45a"
      },
      "source": [
        "plt.plot(vcost)\n",
        "plt.title('Cost')\n",
        "plt.xlabel('epoch')"
      ],
      "execution_count": 12,
      "outputs": [
        {
          "output_type": "execute_result",
          "data": {
            "text/plain": [
              "Text(0.5, 0, 'epoch')"
            ]
          },
          "metadata": {
            "tags": []
          },
          "execution_count": 12
        },
        {
          "output_type": "display_data",
          "data": {
            "image/png": "[encoded data removed]",
            "text/plain": [
              "<Figure size 432x288 with 1 Axes>"
            ]
          },
          "metadata": {
            "tags": [],
            "needs_background": "light"
          }
        }
      ]
    },
    {
      "cell_type": "code",
      "metadata": {
        "id": "lSBy4SvHvDXb",
        "colab_type": "code",
        "colab": {
          "base_uri": "https://localhost:8080/",
          "height": 35
        },
        "outputId": "30281b55-ce88-41e0-e1a9-f0b5646ed678"
      },
      "source": [
        "test1 = sess.run(hypothesis, feed_dict={X:[[1,1]]})\n",
        "print(test1[0][0]) # 대괄호 안보이도록 하기 위해 [0][0]씀"
      ],
      "execution_count": 13,
      "outputs": [
        {
          "output_type": "stream",
          "text": [
            "0.4999981\n"
          ],
          "name": "stdout"
        }
      ]
    },
    {
      "cell_type": "code",
      "metadata": {
        "id": "c0WksiSVGJm4",
        "colab_type": "code",
        "colab": {
          "base_uri": "https://localhost:8080/",
          "height": 89
        },
        "outputId": "8eb5f269-ce53-43ac-f036-4d39de917b7d"
      },
      "source": [
        "for i in range(4):\n",
        "  test1 = sess.run(hypothesis, feed_dict={X:[x_data[i]]})\n",
        "  print(i, x_data[i], y_data[i], \"----predicted : \", test1)"
      ],
      "execution_count": 14,
      "outputs": [
        {
          "output_type": "stream",
          "text": [
            "0 [0. 0.] [0.] ----predicted :  [[9.0578664e-07]]\n",
            "1 [0. 1.] [1.] ----predicted :  [[0.99999654]]\n",
            "2 [1. 0.] [1.] ----predicted :  [[0.49999642]]\n",
            "3 [1. 1.] [0.] ----predicted :  [[0.4999981]]\n"
          ],
          "name": "stdout"
        }
      ]
    },
    {
      "cell_type": "code",
      "metadata": {
        "id": "g8Gs7l4SvDXe",
        "colab_type": "code",
        "colab": {
          "base_uri": "https://localhost:8080/",
          "height": 35
        },
        "outputId": "3f812c0e-597a-43f7-cdc3-fd006265837a"
      },
      "source": [
        "acc1 = sess.run(accuracy, feed_dict = {X: x_data, Y: y_data})\n",
        "print(acc1)"
      ],
      "execution_count": 15,
      "outputs": [
        {
          "output_type": "stream",
          "text": [
            "0.75\n"
          ],
          "name": "stdout"
        }
      ]
    },
    {
      "cell_type": "code",
      "metadata": {
        "id": "alDNcpHmvDXh",
        "colab_type": "code",
        "colab": {}
      },
      "source": [
        "test1 = sess.run(hypothesis, feed_dict={X:[[0.1,0]]})"
      ],
      "execution_count": 16,
      "outputs": []
    }
  ]
}